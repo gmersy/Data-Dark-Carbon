{
 "cells": [
  {
   "cell_type": "code",
   "execution_count": 13,
   "metadata": {},
   "outputs": [],
   "source": [
    "import pandas as pd\n",
    "import json\n",
    "from datetime import datetime"
   ]
  },
  {
   "cell_type": "code",
   "execution_count": 73,
   "metadata": {},
   "outputs": [
    {
     "name": "stdout",
     "output_type": "stream",
     "text": [
      "Time\n",
      "2022-11-30 21:00:00    312.935539\n",
      "2022-11-30 22:00:00    306.537738\n",
      "2022-11-30 23:00:00    297.905380\n",
      "2022-12-01 00:00:00    291.140733\n",
      "2022-12-01 01:00:00    294.176349\n",
      "2022-12-01 02:00:00    288.061553\n",
      "2022-12-01 03:00:00    289.008076\n",
      "2022-12-01 04:00:00    286.510766\n",
      "2022-12-01 05:00:00    276.020398\n",
      "2022-12-01 06:00:00    272.846030\n",
      "2022-12-01 07:00:00    265.039352\n",
      "2022-12-01 08:00:00    251.860794\n",
      "2022-12-01 09:00:00    250.982116\n",
      "2022-12-01 10:00:00    240.248128\n",
      "2022-12-01 11:00:00    234.398249\n",
      "2022-12-01 12:00:00    222.490436\n",
      "2022-12-01 13:00:00    223.129334\n",
      "2022-12-01 14:00:00    240.844175\n",
      "2022-12-01 15:00:00    275.242945\n",
      "2022-12-01 16:00:00    290.790090\n",
      "2022-12-01 17:00:00    291.212044\n",
      "2022-12-01 18:00:00    287.178583\n",
      "2022-12-01 19:00:00    284.211986\n",
      "2022-12-01 20:00:00    285.431130\n",
      "Freq: H, Name: g CO2 e/kWh, dtype: float64\n"
     ]
    }
   ],
   "source": [
    "nov30_rens = pd.read_csv('carbon_intensity_pricing/raw CAISO/CAISO-renewables-20221130.csv', index_col=0, header=None).T\n",
    "nov30_other = pd.read_csv('carbon_intensity_pricing/raw CAISO/CAISO-supply-20221130.csv', index_col=0, header=None).T\n",
    "\n",
    "dec1_rens = pd.read_csv('carbon_intensity_pricing/raw CAISO/CAISO-renewables-20221201.csv', index_col=0, header=None).T\n",
    "dec1_other = pd.read_csv('carbon_intensity_pricing/raw CAISO/CAISO-supply-20221201.csv', index_col=0, header=None).T\n",
    "\n",
    "nov30_rens.rename(columns={nov30_rens.columns[0]: 'Time'}, inplace=True)\n",
    "nov30_other = nov30_other.rename(columns={nov30_other.columns[0]: 'Time'}, inplace=False).dropna()\n",
    "\n",
    "dec1_rens.rename(columns={dec1_rens.columns[0]: 'Time'}, inplace=True)\n",
    "dec1_other = dec1_other.rename(columns={dec1_other.columns[0]: 'Time'}, inplace=False).dropna()\n",
    "\n",
    "\n",
    "nov30_rens['Time'] = [datetime.combine(datetime(2022, 11, 30), time) for time in pd.to_datetime(nov30_rens['Time']).dt.time.tolist()]\n",
    "nov30_other['Time'] = [datetime.combine(datetime(2022, 11, 30), time) for time in pd.to_datetime(nov30_other['Time']).dt.time.tolist()]\n",
    "\n",
    "dec1_rens['Time'] = [datetime.combine(datetime(2022, 12, 1), time) for time in pd.to_datetime(dec1_rens['Time']).dt.time.tolist()]\n",
    "dec1_other['Time'] = [datetime.combine(datetime(2022, 12, 1), time) for time in pd.to_datetime(dec1_other['Time']).dt.time.tolist()]\n",
    "\n",
    "\n",
    "# combine the two dataframes on the time column\n",
    "nov30 = pd.merge(nov30_rens, nov30_other, on='Time')\n",
    "dec1 = pd.merge(dec1_rens, dec1_other, on='Time')\n",
    "\n",
    "# concatenate the two dataframes\n",
    "full = pd.concat([nov30, dec1], axis=0)\n",
    "\n",
    "\n",
    "\n",
    "full.set_index('Time', inplace=True)\n",
    "\n",
    "# convert all values to floats\n",
    "full = full.astype(float)\n",
    "# set all values in the dataframe less than 0 to 0\n",
    "full[full < 0] = 0\n",
    "\n",
    "# get rows between 9pm PST November 30th and 9pm PST December 1st\n",
    "full = full.loc['2022-11-30 21:00:00':'2022-12-01 20:00:00']\n",
    "\n",
    "# calculate the hourly average values\n",
    "full = full.resample('H').mean()\n",
    "\n",
    "CARBON_INTENSITIES_CAISO = json.load(open('CAISO_carbon_intensity.json', 'r'))\n",
    "\n",
    "total = full[\"Coal\"] + full[\"Natural gas\"] + full[\"Wind\"] + full[\"Nuclear\"] + full[\"Solar\"] + full[\"Small hydro\"] + full[\"Large hydro\"] + full[\"Biomass\"] + full[\"Geothermal\"] + full[\"Biogas\"] + full[\"Imports\"]\n",
    "\n",
    "full[\"g CO2 e/kWh\"] = (1/total)*(full[\"Coal\"] * CARBON_INTENSITIES_CAISO[\"Coal\"] + full[\"Natural gas\"] * CARBON_INTENSITIES_CAISO[\"Natural gas\"] \\\n",
    "    + full[\"Wind\"] * CARBON_INTENSITIES_CAISO[\"Wind\"] + full[\"Nuclear\"] * CARBON_INTENSITIES_CAISO[\"Nuclear\"] + full[\"Solar\"] * CARBON_INTENSITIES_CAISO[\"Solar\"] \\\n",
    "         + full[\"Small hydro\"] * CARBON_INTENSITIES_CAISO[\"Small hydro\"] + full[\"Large hydro\"] * CARBON_INTENSITIES_CAISO[\"Large hydro\"] + full[\"Biomass\"] * CARBON_INTENSITIES_CAISO[\"Biomass\"] \\\n",
    "            + full[\"Geothermal\"] * CARBON_INTENSITIES_CAISO[\"Geothermal\"] + full[\"Biogas\"] * CARBON_INTENSITIES_CAISO[\"Biogas\"] + full[\"Imports\"] * CARBON_INTENSITIES_CAISO[\"Imports\"]) \n",
    "print(full[\"g CO2 e/kWh\"])\n",
    "\n",
    "\n",
    "\n"
   ]
  }
 ],
 "metadata": {
  "kernelspec": {
   "display_name": "Python 3",
   "language": "python",
   "name": "python3"
  },
  "language_info": {
   "codemirror_mode": {
    "name": "ipython",
    "version": 3
   },
   "file_extension": ".py",
   "mimetype": "text/x-python",
   "name": "python",
   "nbconvert_exporter": "python",
   "pygments_lexer": "ipython3",
   "version": "3.10.4"
  },
  "orig_nbformat": 4,
  "vscode": {
   "interpreter": {
    "hash": "aee8b7b246df8f9039afb4144a1f6fd8d2ca17a180786b69acc140d282b71a49"
   }
  }
 },
 "nbformat": 4,
 "nbformat_minor": 2
}
